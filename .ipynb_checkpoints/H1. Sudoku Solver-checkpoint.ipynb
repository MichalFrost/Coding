{
 "cells": [
  {
   "cell_type": "code",
   "execution_count": 1,
   "id": "2253c408",
   "metadata": {},
   "outputs": [],
   "source": [
    "board = [[\"5\",\"3\",\".\",\".\",\"7\",\".\",\".\",\".\",\".\"],\n",
    "         [\"6\",\".\",\".\",\"1\",\"9\",\"5\",\".\",\".\",\".\"],\n",
    "         [\".\",\"9\",\"8\",\".\",\".\",\".\",\".\",\"6\",\".\"],\n",
    "         [\"8\",\".\",\".\",\".\",\"6\",\".\",\".\",\".\",\"3\"],\n",
    "         [\"4\",\".\",\".\",\"8\",\".\",\"3\",\".\",\".\",\"1\"],\n",
    "         [\"7\",\".\",\".\",\".\",\"2\",\".\",\".\",\".\",\"6\"],\n",
    "         [\".\",\"6\",\".\",\".\",\".\",\".\",\"2\",\"8\",\".\"],\n",
    "         [\".\",\".\",\".\",\"4\",\"1\",\"9\",\".\",\".\",\"5\"],\n",
    "         [\".\",\".\",\".\",\".\",\"8\",\".\",\".\",\"7\",\"9\"]]"
   ]
  },
  {
   "cell_type": "code",
   "execution_count": 4,
   "id": "e3224d97",
   "metadata": {},
   "outputs": [
    {
     "name": "stdout",
     "output_type": "stream",
     "text": [
      "[['5', '3', '.', '.', '7', '.', '.', '.', '.'], ['6', '.', '.', '1', '9', '5', '.', '.', '.'], ['.', '9', '8', '.', '.', '.', '.', '6', '.'], ['8', '.', '.', '.', '6', '.', '.', '.', '3'], ['4', '.', '.', '8', '.', '3', '.', '.', '1'], ['7', '.', '.', '.', '2', '.', '.', '.', '6'], ['.', '6', '.', '.', '.', '.', '2', '8', '.'], ['.', '.', '.', '4', '1', '9', '.', '.', '5'], ['.', '.', '.', '.', '8', '.', '.', '7', '9']]\n"
     ]
    }
   ],
   "source": [
    "# Pola wypełniamy cyframi z zasobu liczb naturalnych dodatnich\n",
    "digits = {1,2,3,4,5,6,7,8,9}\n",
    "\n",
    "# Zasada I - w każdym rzędzie każda cyfra może się powtórzyć tylko raz\n",
    "# Zasada II - w każdej kolumnie każda cyfra może się powtórzyć tylko raz\n",
    "# Zasada III - w kwadratach 3x3 każda cyfra może się pojawić tylko raz\n",
    "\n",
    "# Przejdź po cyfrze \"1\" przez wiersze, przez kolumny, przez kwadraty i sprawdź gdzie możesz dostawić 1, potem zmień na kolejną cyfrę i tak do ostatniej.\n",
    "# Jeśli sudoku będzie rozwiązane wtedy zakończ\n",
    "\n",
    "\n",
    "#TODO pętla która sprawdza czy sudoku jest rozwiązane, jeśli jest to break;\n",
    "\n",
    "# for i in digits:\n",
    "#     #TODO sprawdź pierwsze 3 wiersze, potem 3 kolejne, potem 3 ostatnie\n",
    "#     print(board[1][])\n",
    "\n",
    "print(board)"
   ]
  },
  {
   "cell_type": "code",
   "execution_count": null,
   "id": "d67de32b",
   "metadata": {},
   "outputs": [],
   "source": []
  },
  {
   "cell_type": "code",
   "execution_count": null,
   "id": "69d3ad12",
   "metadata": {},
   "outputs": [],
   "source": []
  },
  {
   "cell_type": "code",
   "execution_count": null,
   "id": "28eaf288",
   "metadata": {},
   "outputs": [],
   "source": []
  }
 ],
 "metadata": {
  "kernelspec": {
   "display_name": "Python 3 (ipykernel)",
   "language": "python",
   "name": "python3"
  },
  "language_info": {
   "codemirror_mode": {
    "name": "ipython",
    "version": 3
   },
   "file_extension": ".py",
   "mimetype": "text/x-python",
   "name": "python",
   "nbconvert_exporter": "python",
   "pygments_lexer": "ipython3",
   "version": "3.9.18"
  }
 },
 "nbformat": 4,
 "nbformat_minor": 5
}
