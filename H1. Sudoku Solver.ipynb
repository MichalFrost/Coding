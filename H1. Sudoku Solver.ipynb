{
 "cells": [
  {
   "cell_type": "code",
   "execution_count": 1,
   "id": "01470389",
   "metadata": {},
   "outputs": [],
   "source": [
    "board = [[\"5\",\"3\",\".\",\".\",\"7\",\".\",\".\",\".\",\".\"],\n",
    "         [\"6\",\".\",\".\",\"1\",\"9\",\"5\",\".\",\".\",\".\"],\n",
    "         [\".\",\"9\",\"8\",\".\",\".\",\".\",\".\",\"6\",\".\"],\n",
    "         [\"8\",\".\",\".\",\".\",\"6\",\".\",\".\",\".\",\"3\"],\n",
    "         [\"4\",\".\",\".\",\"8\",\".\",\"3\",\".\",\".\",\"1\"],\n",
    "         [\"7\",\".\",\".\",\".\",\"2\",\".\",\".\",\".\",\"6\"],\n",
    "         [\".\",\"6\",\".\",\".\",\".\",\".\",\"2\",\"8\",\".\"],\n",
    "         [\".\",\".\",\".\",\"4\",\"1\",\"9\",\".\",\".\",\"5\"],\n",
    "         [\".\",\".\",\".\",\".\",\"8\",\".\",\".\",\"7\",\"9\"]]"
   ]
  },
  {
   "cell_type": "code",
   "execution_count": 11,
   "id": "dc6003cc",
   "metadata": {},
   "outputs": [],
   "source": [
    "def solve():\n",
    "    for row in range(9):\n",
    "        for col in range(9):\n",
    "            if board[row][col] == '.':\n",
    "                for num in '123456789':\n",
    "                    if is_valid(row, col, num):\n",
    "                        board[row][col] = num\n",
    "                        if solve():\n",
    "                            return True\n",
    "                        board[row][col] = '.'\n",
    "                return False\n",
    "    return True\n",
    "\n",
    "        "
   ]
  },
  {
   "cell_type": "code",
   "execution_count": 12,
   "id": "1e92e3b6",
   "metadata": {},
   "outputs": [
    {
     "data": {
      "text/plain": [
       "True"
      ]
     },
     "execution_count": 12,
     "metadata": {},
     "output_type": "execute_result"
    }
   ],
   "source": [
    "def is_valid(row, col, num):\n",
    "    for i in range(9):\n",
    "        if board[row][i] == num or board[i][col] == num:\n",
    "            return False\n",
    "    start_row, start_col = 3 * (row // 3), 3 * (col // 3)\n",
    "    for i in range(start_row, start_row + 3):\n",
    "        for j in range(start_col, start_col + 3):\n",
    "            if board[i][j] == num:\n",
    "                return False\n",
    "    return True\n",
    "\n",
    "solve()"
   ]
  },
  {
   "cell_type": "code",
   "execution_count": null,
   "id": "c2911186",
   "metadata": {},
   "outputs": [],
   "source": []
  },
  {
   "cell_type": "code",
   "execution_count": null,
   "id": "3fbd33d0",
   "metadata": {},
   "outputs": [],
   "source": []
  },
  {
   "cell_type": "code",
   "execution_count": null,
   "id": "ada54a3f",
   "metadata": {},
   "outputs": [],
   "source": []
  },
  {
   "cell_type": "code",
   "execution_count": null,
   "id": "93f624d1",
   "metadata": {},
   "outputs": [],
   "source": []
  },
  {
   "cell_type": "code",
   "execution_count": null,
   "id": "d12212d3",
   "metadata": {},
   "outputs": [],
   "source": []
  },
  {
   "cell_type": "code",
   "execution_count": 10,
   "id": "13bc4450",
   "metadata": {},
   "outputs": [
    {
     "name": "stdout",
     "output_type": "stream",
     "text": [
      "Cyfra 7 jest w pierwszym wierszu.\n",
      "Cyfra 5 jest w pierwszym wierszu.\n",
      "Cyfry 6 nie ma w pierwszym wierszu.\n",
      "Cyfry 1 nie ma w pierwszym wierszu.\n",
      "Cyfry 4 nie ma w pierwszym wierszu.\n",
      "Cyfry 2 nie ma w pierwszym wierszu.\n",
      "Cyfry 8 nie ma w pierwszym wierszu.\n",
      "Cyfra 3 jest w pierwszym wierszu.\n",
      "Cyfry 9 nie ma w pierwszym wierszu.\n"
     ]
    }
   ],
   "source": [
    "# Pola wypełniamy cyframi z zasobu liczb naturalnych dodatnich\n",
    "digits = {\"1\",\"2\",\"3\",\"4\",\"5\",\"6\",\"7\",\"8\",\"9\"}\n",
    "\n",
    "# Zasada I - w każdym rzędzie każda cyfra może się powtórzyć tylko raz\n",
    "# Zasada II - w każdej kolumnie każda cyfra może się powtórzyć tylko raz\n",
    "# Zasada III - w kwadratach 3x3 każda cyfra może się pojawić tylko raz\n",
    "\n",
    "\n",
    "# Przejdź po cyfrze \"1\" przez wiersze, przez kolumny, przez kwadraty i sprawdź gdzie możesz dostawić 1, potem zmień na kolejną cyfrę i tak do ostatniej.\n",
    "# Jeśli sudoku będzie rozwiązane wtedy zakończ\n",
    "\n",
    "\n",
    "#TODO pętla która sprawdza czy sudoku jest rozwiązane, jeśli jest to break;\n",
    "\n",
    "for i in digits:\n",
    "    #TODO sprawdź pierwsze 3 wiersze, potem 3 kolejne, potem 3 ostatnie\n",
    "    \n",
    "    \n",
    "    # Sprawdzenie, czy liczba 1 jest w pierwszym wierszu\n",
    "    if i in board[0]:\n",
    "        print(f\"Cyfra {i} jest w pierwszym wierszu.\")\n",
    "    else:\n",
    "        print(f\"Cyfry {i} nie ma w pierwszym wierszu.\")\n"
   ]
  }
 ],
 "metadata": {
  "kernelspec": {
   "display_name": "Python 3 (ipykernel)",
   "language": "python",
   "name": "python3"
  },
  "language_info": {
   "codemirror_mode": {
    "name": "ipython",
    "version": 3
   },
   "file_extension": ".py",
   "mimetype": "text/x-python",
   "name": "python",
   "nbconvert_exporter": "python",
   "pygments_lexer": "ipython3",
   "version": "3.9.18"
  }
 },
 "nbformat": 4,
 "nbformat_minor": 5
}
